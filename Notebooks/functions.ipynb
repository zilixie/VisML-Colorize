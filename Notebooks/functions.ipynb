{
  "nbformat": 4,
  "nbformat_minor": 0,
  "metadata": {
    "colab": {
      "name": "Untitled0.ipynb",
      "provenance": [],
      "collapsed_sections": []
    },
    "kernelspec": {
      "name": "python3",
      "display_name": "Python 3"
    }
  },
  "cells": [
    {
      "cell_type": "markdown",
      "metadata": {
        "id": "19o9cQFxW1vu",
        "colab_type": "text"
      },
      "source": [
        "# **Read Images in RGB and convert to LAB**"
      ]
    },
    {
      "cell_type": "code",
      "metadata": {
        "id": "Uc1XD5LqQdIl",
        "colab_type": "code",
        "colab": {}
      },
      "source": [
        "import numpy as np\n",
        "import cv2 as cv\n",
        "import os\n",
        "from skimage import color\n",
        "from pathlib import Path\n",
        "import pandas as pd\n",
        "\n",
        "\n",
        "def read_rgb(path, list_f):\n",
        "\teverything = np.expand_dims(cv.imread(list_f[0]), axis=0)\n",
        "\tfor i in range(1,len(list_f)):\n",
        "\t\ttry:\n",
        "\t\t\timg_rgb = cv.imread(list_f[i])\n",
        "\t\t\teverything = np.vstack((everything, np.expand_dims(img_rgb, axis=0)))\n",
        "\t\texcept:\n",
        "\t\t\t# print(ls[i])\n",
        "\t\t\tpass\n",
        "\t# print(everything.shape)\n",
        "\treturn everything\n",
        "\n",
        "def read_lab(path, list_f):\n",
        "\timg_rgb = read_rgb(path, list_f)\n",
        "\timg_lab = color.rgb2lab(img_rgb/255.0)\n",
        "\treturn img_lab\n",
        "\n",
        "def ab_histogram_batch(img_lab):\n",
        "\timg_ab = img_lab[:, :, :, 1:]\n",
        "\timg_ab_vec = np.reshape(img_ab, (np.prod(img_ab.shape[:3]), 2))\n",
        "\t# print(img_ab.shape)\n",
        "\thist, xedges, yedges = np.histogram2d(img_ab_vec[:, 0], img_ab_vec[:, 1], bins=22, range=[[-110, 110], [-110, 110]])\n",
        "\treturn hist, xedges, yedges\n",
        "\n",
        "\n",
        "def ab_histogram(path):\n",
        "\tc = os.listdir(path)\n",
        "\tls = []\n",
        "\tfor d in c:\n",
        "\t\tls += [path + d + \"/\" + f for f in os.listdir(path + d + \"/\")]\n",
        "\t# ls = sorted(c)\n",
        "\ti = 0\n",
        "\thist = np.zeros((22,22))\n",
        "\twhile i*1000 < len(ls):\n",
        "\t\tstart = 1000 * i\n",
        "\t\tend = min(len(ls), 1000 * (i+1))\n",
        "\t\tlist_f = ls[start: end]\n",
        "\t\th, xedges, yedges = ab_histogram_batch(read_lab(path, list_f))\n",
        "\t\thist += h\n",
        "\t\ti += 1\n",
        "\t\tprint(\"#\", end = '')\n",
        "\n",
        "\tnp.save('./resources/hist.npy', hist)\n",
        "\tnp.save('./resources/xedges.npy', xedges)\n",
        "\tnp.save('./resources/yedges.npy', yedges)\n",
        "\tpts = []\n",
        "\tprobs = []\n",
        "\tcolor_matrix = np.zeros([22,22, 3]) + 255.0\n",
        "\tfor a in range(22):\n",
        "\t\tfor b in range(22):\n",
        "\t\t\tlab = np.zeros((1,1,3)) + 50\n",
        "\t\t\tlab[:,:,1] = xedges[a]\n",
        "\t\t\tlab[:,:,2] = yedges[b]\n",
        "\t\t\trgb = color.lab2rgb(lab)\n",
        "\t\t\tif hist[a][b] != 0:\n",
        "\t\t\t\tprobs.append(hist[a][b])\n",
        "\t\t\t\tcolor_matrix[a][b] = rgb * 255.0\n",
        "\t\t\t\tpts.append([xedges[a], xedges[b]])\n",
        "\tpts = np.array(pts).reshape((-1,2))\n",
        "\ttotal = sum(probs)\n",
        "\tnp.save('./resources/pts.npy', pts)\n",
        "\tnp.save('./resources/probs.npy', np.array(probs)/total)\n",
        "\tprint('done!')\n",
        "\n",
        "def ab_histogram_single(file, hist_saveto):\n",
        "    pts = []\n",
        "    probs = []\n",
        "    color_matrix = np.zeros([22,22, 3]) + 255.0\n",
        "\n",
        "    img_rgb = cv.imread(file)\n",
        "    img_lab = color.rgb2lab(img_rgb/255.0)\n",
        "    img_ab = img_lab[:, :, 1:]\n",
        "    img_ab_vec = np.reshape(img_ab, (224 * 224, 2))\n",
        "    hist, xedges, yedges = np.histogram2d(img_ab_vec[:, 0], img_ab_vec[:, 1], bins=22, range=[[-110, 110], [-110, 110]])\n",
        "    # print(hist)\n",
        "    np.save(hist_saveto, hist)\n",
        "    np.save('./resources/xedges.npy', xedges)\n",
        "    np.save('./resources/yedges.npy', yedges)\n",
        " \n",
        "    for a in range(22):\n",
        "        for b in range(22):\n",
        "            lab = np.zeros((1,1,3)) + 50\n",
        "            lab[:,:,1] = xedges[a]\n",
        "            lab[:,:,2] = yedges[b]\n",
        "            rgb = color.lab2rgb(lab)\n",
        "            if hist[a][b] != 0:\n",
        "                probs.append(hist[a][b])\n",
        "                color_matrix[a][b] = rgb * 255.0\n",
        "                pts.append([xedges[a], xedges[b]])\n",
        "    pts = np.array(pts).reshape((-1,2))\n",
        "    total = sum(probs)\n",
        "    # np.save('./resources/target_pts.npy', pts)\n",
        "    # np.save('./resources/target_probs.npy', np.array(probs)/total)\n",
        "    plt.imshow(color_matrix / 255.0)\n",
        "    plt.show()\n",
        "    plt.clf()\n"
      ],
      "execution_count": 0,
      "outputs": []
    },
    {
      "cell_type": "markdown",
      "metadata": {
        "id": "ZCDHW61fWg_s",
        "colab_type": "text"
      },
      "source": [
        "# **Convert npy vector to csv file**"
      ]
    },
    {
      "cell_type": "code",
      "metadata": {
        "id": "mNvQktafWsK7",
        "colab_type": "code",
        "colab": {}
      },
      "source": [
        "def npyVect2csv(npy_file, csv_file):\n",
        "\tdata = {'flt': [], 'act_rate': []}\n",
        "\tact_rate = np.load(npy_file)\n",
        "\n",
        "\tfor i in range(act_rate.shape[0]):\n",
        "\t\tdata['flt'].append(i)\n",
        "\t\tdata['act_rate'].append(act_rate[i])\n",
        "\tdf = pd.DataFrame(data)\n",
        "\tdf.to_csv(csv_file, index = False, header=True)\n",
        " \n",
        "def npVect2csv(npV, csv_file):\n",
        "\tdata = {'i': [], 'v': []}\n",
        "\n",
        "\tfor i in range(npV.shape[0]):\n",
        "\t\tdata['i'].append(i)\n",
        "\t\tdata['v'].append(npV[i])\n",
        "\tdf = pd.DataFrame(data)\n",
        "\tdf.to_csv(csv_file, index = False, header=True)\n",
        " \n",
        "def top10_to_csv(npy_file, csv_file):\n",
        "    top10 = np.load('./activation/top10.npy')\n",
        "    print(top10.shape)\n",
        "    data = {'x': [], 'y': []}\n",
        "    for i in range(10):\n",
        "        data[str(i)] = []\n",
        "    for x in range(56):\n",
        "        for y in range(56):\n",
        "            data['x'].append(x)\n",
        "            data['y'].append(y)\n",
        "            for i in range(10):\n",
        "                data[str(i)].append(top10[i,x,y])\n",
        "    df = pd.DataFrame(data)\n",
        "    df.to_csv(csv_file, index = False, header=True)\n"
      ],
      "execution_count": 0,
      "outputs": []
    },
    {
      "cell_type": "markdown",
      "metadata": {
        "id": "fdBVtKCuWNkn",
        "colab_type": "text"
      },
      "source": [
        "# **Create Histogram in CSV format from npy array**"
      ]
    },
    {
      "cell_type": "code",
      "metadata": {
        "id": "SZexZ0m-WMhW",
        "colab_type": "code",
        "colab": {}
      },
      "source": [
        "def npy2csv_hist(npy_file, csv_file):\n",
        "    hist = np.load(npy_file)\n",
        "    xedges = np.load('./resources/xedges.npy')\n",
        "    yedges = np.load('./resources/yedges.npy')\n",
        "\n",
        "    data = {'a': [], 'b': [], 'count': [], 'color': []}\n",
        "    # prob = np.load('./resources/target_probs.npy')\n",
        "\n",
        "    for a in range(hist.shape[0]):\n",
        "        for b in range(hist.shape[1]):\n",
        "            lab = np.zeros((1,1,3)) + 50\n",
        "            lab[:,:,1] = xedges[a]\n",
        "            lab[:,:,2] = yedges[b]\n",
        "\n",
        "            rgb = color.lab2rgb(lab)\n",
        "            rgb = rgb[0][0] * 255.0\n",
        "            R,G,B = int(rgb[0]), int(rgb[1]), int(rgb[2])\n",
        "            hex_col = '#%02x%02x%02x' % (R,G,B)\n",
        "\n",
        "            # if hist[a][b] != 0:\n",
        "            data['count'].append(hist[a][b])\n",
        "            data['color'].append(hex_col)\n",
        "            data['a'].append(a)\n",
        "            data['b'].append(b)\n",
        "\n",
        "    df = pd.DataFrame(data)\n",
        "    df.to_csv(csv_file, index = False, header=True)\n",
        "\n",
        "\n",
        "def hist2non_zero_csv(csv_file):\n",
        "    hist = np.load('./resources/hist.npy')\n",
        "    xedges = np.load('./resources/xedges.npy')\n",
        "    yedges = np.load('./resources/yedges.npy')\n",
        "\n",
        "    data = {'a': [], 'b': [], 'count': [], 'color': []}\n",
        "    for a in range(hist.shape[0]):\n",
        "        for b in range(hist.shape[1]):\n",
        "            lab = np.zeros((1,1,3)) + 50\n",
        "            lab[:,:,1] = xedges[a]\n",
        "            lab[:,:,2] = yedges[b]\n",
        "\n",
        "            rgb = color.lab2rgb(lab)\n",
        "            rgb = rgb[0][0] * 255.0\n",
        "            R,G,B = int(rgb[0]), int(rgb[1]), int(rgb[2])\n",
        "            hex_col = '#%02x%02x%02x' % (R,G,B)\n",
        "\n",
        "            if hist[a][b] != 0:\n",
        "                data['a'].append(a)\n",
        "                data['b'].append(b)\n",
        "                data['count'].append(int(hist[a][b]))\n",
        "                data['color'].append(hex_col)\n",
        "    df = pd.DataFrame(data)\n",
        "    df.to_csv(csv_file, index = False, header=True)\n",
        "\n",
        "\n",
        "def hist_from_prob(csv_file):\n",
        "\thist = np.load('./resources/hist.npy')\n",
        "\txedges = np.load('./resources/xedges.npy')\n",
        "\tyedges = np.load('./resources/yedges.npy')\n",
        "\n",
        "\tdata = {'a': [], 'b': [], 'weight': []}\n",
        "\tprob = np.load('./resources/rebal_probs.npy')\n",
        "\n",
        "\ti = 0\n",
        "\tfor a in range(hist.shape[0]):\n",
        "\t\tfor b in range(hist.shape[1]):\n",
        "\t\t\tdata['a'].append(a)\n",
        "\t\t\tdata['b'].append(b)\n",
        "\n",
        "\t\t\tif hist[a][b] != 0:\n",
        "\t\t\t\tdata['weight'].append(prob[i])\n",
        "\t\t\t\ti += 1\n",
        "\t\t\telse:\n",
        "\t\t\t\tdata['weight'].append(0)\n",
        "\tdf = pd.DataFrame(data)\n",
        "\tdf.to_csv(csv_file, index = False, header=True)"
      ],
      "execution_count": 0,
      "outputs": []
    },
    {
      "cell_type": "markdown",
      "metadata": {
        "id": "yW6gXOpJREnT",
        "colab_type": "text"
      },
      "source": [
        "# **Create Color Map**\n",
        "color map is a csv file with number of occurence & frequency of each a,b pair"
      ]
    },
    {
      "cell_type": "code",
      "metadata": {
        "id": "KS9psmocRAwu",
        "colab_type": "code",
        "colab": {}
      },
      "source": [
        "def color_map(csv_file):\n",
        "\thist = np.load('./resources/hist.npy')\n",
        "\txedges = np.load('./resources/xedges.npy')\n",
        "\tyedges = np.load('./resources/yedges.npy')\n",
        "\n",
        "\tdata = {'a': [], 'b': [], 'count': [], 'color': []}\n",
        "\tfor a in range(hist.shape[0]):\n",
        "\t\tfor b in range(hist.shape[1]):\n",
        "\t\t\tlab = np.zeros((1,1,3)) + 50\n",
        "\t\t\tlab[:,:,1] = xedges[a]\n",
        "\t\t\tlab[:,:,2] = yedges[b]\n",
        "\n",
        "\t\t\trgb = color.lab2rgb(lab)\n",
        "\t\t\trgb = rgb[0][0] * 255.0\n",
        "\t\t\tR,G,B = int(rgb[0]), int(rgb[1]), int(rgb[2])\n",
        "\t\t\thex_col = '#%02x%02x%02x' % (R,G,B)\n",
        "\n",
        "\t\t\tdata['a'].append(a)\n",
        "\t\t\tdata['b'].append(b)\n",
        "\t\t\tdata['count'].append(int(hist[a][b]))\n",
        "\t\t\tdata['color'].append(hex_col)\n",
        "\tdf = pd.DataFrame(data)\n",
        "\tdf.to_csv(csv_file, index = False, header=True)\n",
        " "
      ],
      "execution_count": 0,
      "outputs": []
    },
    {
      "cell_type": "markdown",
      "metadata": {
        "id": "9SocXELIQ2fU",
        "colab_type": "text"
      },
      "source": [
        "# **Initailize Model Weight with Bias**"
      ]
    },
    {
      "cell_type": "code",
      "metadata": {
        "id": "XrbEXtB0Q1tw",
        "colab_type": "code",
        "colab": {}
      },
      "source": [
        "def weights_init(m):\n",
        "\tif isinstance(m, nn.Conv2d) or isinstance(m, nn.Linear):\n",
        "\t\tnn.init.xavier_normal_(m.weight.data)\n",
        "\t\tnn.init.constant_(m.bias.data, 0.1)"
      ],
      "execution_count": 0,
      "outputs": []
    },
    {
      "cell_type": "markdown",
      "metadata": {
        "id": "05HI-r6-VnPe",
        "colab_type": "text"
      },
      "source": [
        "# **Convert Image Batch Shape**"
      ]
    },
    {
      "cell_type": "code",
      "metadata": {
        "id": "-y43gEzaVnq1",
        "colab_type": "code",
        "colab": {}
      },
      "source": [
        "def flatten(pts_nd):\n",
        "    shape = np.array(pts_nd.shape)\n",
        "    batch_size = shape[0]\n",
        "    channels = shape[1]\n",
        "    img_size = shape[2] * shape[3]\n",
        "\n",
        "    flat_pts = pts_nd.permute((0, 2, 3, 1))\n",
        "    flat_pts = flat_pts.contiguous().view(img_size * batch_size, channels)\n",
        "    return flat_pts\n",
        "\n",
        "\n",
        "def restore(flat_pts, pts_nd):\n",
        "    shape = np.array(pts_nd.shape)\n",
        "    batch_size = shape[0]\n",
        "    channels = flat_pts.shape[1]\n",
        "    img_len = shape[2]\n",
        "\n",
        "    pts_out = flat_pts.reshape([batch_size, img_len, img_len, channels])\n",
        "    pts_out = pts_out.transpose((0, 3, 1, 2))\n",
        "    return pts_out"
      ],
      "execution_count": 0,
      "outputs": []
    }
  ]
}